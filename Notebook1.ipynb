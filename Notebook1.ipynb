{
 "cells": [
  {
   "cell_type": "markdown",
   "id": "184b105b",
   "metadata": {},
   "source": [
    "# Riid Analystics \n",
    "### Nishit Vyas "
   ]
  },
  {
   "cell_type": "code",
   "execution_count": 1,
   "id": "8ecea7ca",
   "metadata": {},
   "outputs": [],
   "source": [
    "import numpy as np\n",
    "import pandas as pd\n",
    "import matplotlib.pyplot as plt\n",
    "%matplotlib inline"
   ]
  },
  {
   "cell_type": "code",
   "execution_count": 2,
   "id": "0264ee79",
   "metadata": {},
   "outputs": [],
   "source": [
    "df = pd.read_csv('./EdNet-KT4/KT4/u8.csv')\n",
    "questionsdf = pd.read_csv('./EdNet-Contents/contents/questions.csv')\n",
    "paymentsdf = pd.read_csv('./EdNet-Contents/contents/payments.csv')"
   ]
  },
  {
   "cell_type": "markdown",
   "id": "61aa8e32",
   "metadata": {},
   "source": [
    "# Part 1"
   ]
  },
  {
   "cell_type": "code",
   "execution_count": 4,
   "id": "544a8dda",
   "metadata": {},
   "outputs": [],
   "source": [
    "import os\n",
    "mainDf1 = pd.DataFrame(columns=['username','num_of_questions_answered', 'num_of_correct_answers', 'num_of_explanations',\n",
    "                                'num_of_lectures', 'devicesUsed', 'confidence_level', 'payments', 'duration'])\n",
    "for i in os.listdir('./EdNet-KT4/KT4/'):\n",
    "    df = pd.read_csv('./EdNet-KT4/KT4/'+i)\n",
    "    num_of_questions_answered = df[df['action_type']=='respond']['item_id'].nunique()\n",
    "    #rows with the lastest reponse\n",
    "    latest_responses = df[df['action_type']=='respond'][['timestamp','item_id', 'user_answer']].groupby(by='item_id')[['timestamp', 'user_answer']].max()\n",
    "    latest_responses = latest_responses.reset_index()\n",
    "    latest_responses = latest_responses.sort_values(by='item_id')\n",
    "    # Extracting the questions correct answers\n",
    "    tempdf = questionsdf[questionsdf['question_id'].isin(latest_responses['item_id'])][['question_id','correct_answer']].sort_values(by='question_id')\n",
    "    latest_responses['correct_answer'] = list(tempdf['correct_answer'])\n",
    "    #Comparing the list of responses with correct answers\n",
    "    num_of_correct_answers = latest_responses[latest_responses['user_answer'] == latest_responses['correct_answer']].shape[0]\n",
    "    # Explanations and Lecture\n",
    "    num_of_explanations = df[df['item_id'].str.contains('e')]['item_id'].nunique()\n",
    "    num_of_lectures = df[df['item_id'].str.contains('l')]['item_id'].nunique()\n",
    "    #additional metric\n",
    "    # First: Type of devices\n",
    "    device = list(df['platform'].unique())[0]\n",
    "    #Second: Confidence level by \"erase_choice\" and adaptive offers\n",
    "    confidence_level = df[df['action_type']=='erase_choice'].shape[0]\n",
    "    #Third: tags explored by the users\n",
    "    # How many paygo and pass\n",
    "    payments = list(paymentsdf[paymentsdf['payment_item_id'].isin(df[df['action_type']=='pay']['item_id'])]['type'])\n",
    "    # Duration\n",
    "    duration = np.sum(paymentsdf[paymentsdf['payment_item_id'].isin(df[df['action_type']=='pay']['item_id'])]['duaration'])\n",
    "    #Username\n",
    "    username = i.split('.')[0]\n",
    "    #Putting values in global dataframe\n",
    "    mainDf1.loc[len(mainDf1.index)] = [username,num_of_questions_answered,num_of_correct_answers,num_of_explanations,num_of_lectures,device,confidence_level,payments,duration]\n",
    "    \n",
    "    df.drop(columns = df.columns, inplace=True)"
   ]
  },
  {
   "cell_type": "code",
   "execution_count": 111,
   "id": "b7ef1272",
   "metadata": {
    "scrolled": false
   },
   "outputs": [
    {
     "data": {
      "image/png": "[encoded data removed]",
      "text/plain": [
       "<Figure size 432x288 with 1 Axes>"
      ]
     },
     "metadata": {
      "needs_background": "light"
     },
     "output_type": "display_data"
    }
   ],
   "source": [
    "mainDf1['devicesUsed'].fillna('Unknown',inplace=True)\n",
    "plt.title('Platforms for accessing')\n",
    "#plt.xticks(rotation=90)\n",
    "mainDf1['devicesUsed'].value_counts().plot.bar()\n",
    "plt.show()"
   ]
  },
  {
   "cell_type": "code",
   "execution_count": 18,
   "id": "ecd527db",
   "metadata": {},
   "outputs": [],
   "source": [
    "mainDf1['accuracy']=mainDf1['num_of_correct_answers']/mainDf1['num_of_questions_answered']\n",
    "mainDf1['accuracy'] = mainDf1['accuracy'].replace(np.nan,0)"
   ]
  },
  {
   "cell_type": "code",
   "execution_count": 19,
   "id": "2c5a7ac5",
   "metadata": {},
   "outputs": [],
   "source": [
    "# #mainDf1['accuracy']= mainDf1['num_of_correct_answers']/ mainDf1['num_of_questions_answered']\n",
    "# mainDf1[mainDf1.accuracy.isna()]['accuracy']\n",
    "# mainDf1['accuracy'] = np.where(mainDf1['accuracy'].isna(),0,mainDf1['accuracy'])"
   ]
  },
  {
   "cell_type": "code",
   "execution_count": 71,
   "id": "7cfa452f",
   "metadata": {},
   "outputs": [
    {
     "data": {
      "text/html": [
       "<div>\n",
       "<style scoped>\n",
       "    .dataframe tbody tr th:only-of-type {\n",
       "        vertical-align: middle;\n",
       "    }\n",
       "\n",
       "    .dataframe tbody tr th {\n",
       "        vertical-align: top;\n",
       "    }\n",
       "\n",
       "    .dataframe thead th {\n",
       "        text-align: right;\n",
       "    }\n",
       "</style>\n",
       "<table border=\"1\" class=\"dataframe\">\n",
       "  <thead>\n",
       "    <tr style=\"text-align: right;\">\n",
       "      <th></th>\n",
       "      <th>username</th>\n",
       "      <th>num_of_questions_answered</th>\n",
       "      <th>num_of_correct_answers</th>\n",
       "      <th>num_of_explanations</th>\n",
       "      <th>num_of_lectures</th>\n",
       "      <th>devicesUsed</th>\n",
       "      <th>confidence_level</th>\n",
       "      <th>payments</th>\n",
       "      <th>duration</th>\n",
       "      <th>accuracy</th>\n",
       "    </tr>\n",
       "  </thead>\n",
       "  <tbody>\n",
       "    <tr>\n",
       "      <th>0</th>\n",
       "      <td>u100043</td>\n",
       "      <td>605</td>\n",
       "      <td>264</td>\n",
       "      <td>412</td>\n",
       "      <td>22</td>\n",
       "      <td>web</td>\n",
       "      <td>24</td>\n",
       "      <td>1</td>\n",
       "      <td>2400.0</td>\n",
       "      <td>0.436364</td>\n",
       "    </tr>\n",
       "    <tr>\n",
       "      <th>1</th>\n",
       "      <td>u10019</td>\n",
       "      <td>1761</td>\n",
       "      <td>1412</td>\n",
       "      <td>1766</td>\n",
       "      <td>3</td>\n",
       "      <td>web</td>\n",
       "      <td>105</td>\n",
       "      <td>0</td>\n",
       "      <td>0.0</td>\n",
       "      <td>0.801817</td>\n",
       "    </tr>\n",
       "    <tr>\n",
       "      <th>2</th>\n",
       "      <td>u10020</td>\n",
       "      <td>169</td>\n",
       "      <td>115</td>\n",
       "      <td>119</td>\n",
       "      <td>2</td>\n",
       "      <td>Unknown</td>\n",
       "      <td>19</td>\n",
       "      <td>1</td>\n",
       "      <td>4320.0</td>\n",
       "      <td>0.680473</td>\n",
       "    </tr>\n",
       "    <tr>\n",
       "      <th>3</th>\n",
       "      <td>u10021</td>\n",
       "      <td>136</td>\n",
       "      <td>96</td>\n",
       "      <td>114</td>\n",
       "      <td>1</td>\n",
       "      <td>Unknown</td>\n",
       "      <td>3</td>\n",
       "      <td>2</td>\n",
       "      <td>7800.0</td>\n",
       "      <td>0.705882</td>\n",
       "    </tr>\n",
       "    <tr>\n",
       "      <th>4</th>\n",
       "      <td>u10026</td>\n",
       "      <td>60</td>\n",
       "      <td>42</td>\n",
       "      <td>65</td>\n",
       "      <td>3</td>\n",
       "      <td>mobile</td>\n",
       "      <td>48</td>\n",
       "      <td>1</td>\n",
       "      <td>720.0</td>\n",
       "      <td>0.700000</td>\n",
       "    </tr>\n",
       "    <tr>\n",
       "      <th>...</th>\n",
       "      <td>...</td>\n",
       "      <td>...</td>\n",
       "      <td>...</td>\n",
       "      <td>...</td>\n",
       "      <td>...</td>\n",
       "      <td>...</td>\n",
       "      <td>...</td>\n",
       "      <td>...</td>\n",
       "      <td>...</td>\n",
       "      <td>...</td>\n",
       "    </tr>\n",
       "    <tr>\n",
       "      <th>14360</th>\n",
       "      <td>u996</td>\n",
       "      <td>14</td>\n",
       "      <td>8</td>\n",
       "      <td>4</td>\n",
       "      <td>5</td>\n",
       "      <td>mobile</td>\n",
       "      <td>0</td>\n",
       "      <td>0</td>\n",
       "      <td>0.0</td>\n",
       "      <td>0.571429</td>\n",
       "    </tr>\n",
       "    <tr>\n",
       "      <th>14361</th>\n",
       "      <td>u9962</td>\n",
       "      <td>9</td>\n",
       "      <td>5</td>\n",
       "      <td>10</td>\n",
       "      <td>4</td>\n",
       "      <td>web</td>\n",
       "      <td>0</td>\n",
       "      <td>1</td>\n",
       "      <td>2400.0</td>\n",
       "      <td>0.555556</td>\n",
       "    </tr>\n",
       "    <tr>\n",
       "      <th>14362</th>\n",
       "      <td>u997</td>\n",
       "      <td>91</td>\n",
       "      <td>75</td>\n",
       "      <td>82</td>\n",
       "      <td>3</td>\n",
       "      <td>web</td>\n",
       "      <td>6</td>\n",
       "      <td>1</td>\n",
       "      <td>4320.0</td>\n",
       "      <td>0.824176</td>\n",
       "    </tr>\n",
       "    <tr>\n",
       "      <th>14363</th>\n",
       "      <td>u9977</td>\n",
       "      <td>127</td>\n",
       "      <td>88</td>\n",
       "      <td>133</td>\n",
       "      <td>1</td>\n",
       "      <td>mobile</td>\n",
       "      <td>4</td>\n",
       "      <td>0</td>\n",
       "      <td>0.0</td>\n",
       "      <td>0.692913</td>\n",
       "    </tr>\n",
       "    <tr>\n",
       "      <th>14364</th>\n",
       "      <td>u9988</td>\n",
       "      <td>200</td>\n",
       "      <td>133</td>\n",
       "      <td>189</td>\n",
       "      <td>1</td>\n",
       "      <td>web</td>\n",
       "      <td>9</td>\n",
       "      <td>2</td>\n",
       "      <td>6720.0</td>\n",
       "      <td>0.665000</td>\n",
       "    </tr>\n",
       "  </tbody>\n",
       "</table>\n",
       "<p>14365 rows × 10 columns</p>\n",
       "</div>"
      ],
      "text/plain": [
       "      username  num_of_questions_answered  num_of_correct_answers  \\\n",
       "0      u100043                        605                     264   \n",
       "1       u10019                       1761                    1412   \n",
       "2       u10020                        169                     115   \n",
       "3       u10021                        136                      96   \n",
       "4       u10026                         60                      42   \n",
       "...        ...                        ...                     ...   \n",
       "14360     u996                         14                       8   \n",
       "14361    u9962                          9                       5   \n",
       "14362     u997                         91                      75   \n",
       "14363    u9977                        127                      88   \n",
       "14364    u9988                        200                     133   \n",
       "\n",
       "       num_of_explanations  num_of_lectures devicesUsed  confidence_level  \\\n",
       "0                      412               22         web                24   \n",
       "1                     1766                3         web               105   \n",
       "2                      119                2     Unknown                19   \n",
       "3                      114                1     Unknown                 3   \n",
       "4                       65                3      mobile                48   \n",
       "...                    ...              ...         ...               ...   \n",
       "14360                    4                5      mobile                 0   \n",
       "14361                   10                4         web                 0   \n",
       "14362                   82                3         web                 6   \n",
       "14363                  133                1      mobile                 4   \n",
       "14364                  189                1         web                 9   \n",
       "\n",
       "       payments  duration  accuracy  \n",
       "0             1    2400.0  0.436364  \n",
       "1             0       0.0  0.801817  \n",
       "2             1    4320.0  0.680473  \n",
       "3             2    7800.0  0.705882  \n",
       "4             1     720.0  0.700000  \n",
       "...         ...       ...       ...  \n",
       "14360         0       0.0  0.571429  \n",
       "14361         1    2400.0  0.555556  \n",
       "14362         1    4320.0  0.824176  \n",
       "14363         0       0.0  0.692913  \n",
       "14364         2    6720.0  0.665000  \n",
       "\n",
       "[14365 rows x 10 columns]"
      ]
     },
     "execution_count": 71,
     "metadata": {},
     "output_type": "execute_result"
    }
   ],
   "source": [
    "mainDf1"
   ]
  },
  {
   "cell_type": "code",
   "execution_count": 24,
   "id": "0ab4af41",
   "metadata": {},
   "outputs": [],
   "source": [
    "mainDf1.to_csv('Table1.csv')"
   ]
  },
  {
   "cell_type": "markdown",
   "id": "8ab98ead",
   "metadata": {},
   "source": [
    "__Manually replaced the value in the payments column using Excel. In this sample all the students were enrolled as \"pass\". Therefore for this case, \\[\\] is replaced with _0_, \\['pass'\\] is replaced with _1_, \\['pass','pass'\\] with _2_ and furthermore.__"
   ]
  },
  {
   "cell_type": "code",
   "execution_count": 98,
   "id": "9bb2dd84",
   "metadata": {},
   "outputs": [
    {
     "data": {
      "text/html": [
       "<div>\n",
       "<style scoped>\n",
       "    .dataframe tbody tr th:only-of-type {\n",
       "        vertical-align: middle;\n",
       "    }\n",
       "\n",
       "    .dataframe tbody tr th {\n",
       "        vertical-align: top;\n",
       "    }\n",
       "\n",
       "    .dataframe thead th {\n",
       "        text-align: right;\n",
       "    }\n",
       "</style>\n",
       "<table border=\"1\" class=\"dataframe\">\n",
       "  <thead>\n",
       "    <tr style=\"text-align: right;\">\n",
       "      <th></th>\n",
       "      <th>username</th>\n",
       "      <th>num_of_questions_answered</th>\n",
       "      <th>num_of_correct_answers</th>\n",
       "      <th>num_of_explanations</th>\n",
       "      <th>num_of_lectures</th>\n",
       "      <th>devicesUsed</th>\n",
       "      <th>confidence_level</th>\n",
       "      <th>payments</th>\n",
       "      <th>duration</th>\n",
       "      <th>accuracy</th>\n",
       "      <th>mixed_cols</th>\n",
       "      <th>combined_metric</th>\n",
       "    </tr>\n",
       "  </thead>\n",
       "  <tbody>\n",
       "    <tr>\n",
       "      <th>0</th>\n",
       "      <td>u100043</td>\n",
       "      <td>605</td>\n",
       "      <td>264</td>\n",
       "      <td>412</td>\n",
       "      <td>22</td>\n",
       "      <td>web</td>\n",
       "      <td>24</td>\n",
       "      <td>1</td>\n",
       "      <td>2400.0</td>\n",
       "      <td>0.436364</td>\n",
       "      <td>0.063614</td>\n",
       "      <td>0.212714</td>\n",
       "    </tr>\n",
       "    <tr>\n",
       "      <th>1</th>\n",
       "      <td>u10019</td>\n",
       "      <td>1761</td>\n",
       "      <td>1412</td>\n",
       "      <td>1766</td>\n",
       "      <td>3</td>\n",
       "      <td>web</td>\n",
       "      <td>105</td>\n",
       "      <td>0</td>\n",
       "      <td>0.0</td>\n",
       "      <td>0.801817</td>\n",
       "      <td>0.216127</td>\n",
       "      <td>0.450403</td>\n",
       "    </tr>\n",
       "    <tr>\n",
       "      <th>2</th>\n",
       "      <td>u10020</td>\n",
       "      <td>169</td>\n",
       "      <td>115</td>\n",
       "      <td>119</td>\n",
       "      <td>2</td>\n",
       "      <td>Unknown</td>\n",
       "      <td>19</td>\n",
       "      <td>1</td>\n",
       "      <td>4320.0</td>\n",
       "      <td>0.680473</td>\n",
       "      <td>0.017755</td>\n",
       "      <td>0.282843</td>\n",
       "    </tr>\n",
       "    <tr>\n",
       "      <th>3</th>\n",
       "      <td>u10021</td>\n",
       "      <td>136</td>\n",
       "      <td>96</td>\n",
       "      <td>114</td>\n",
       "      <td>1</td>\n",
       "      <td>Unknown</td>\n",
       "      <td>3</td>\n",
       "      <td>2</td>\n",
       "      <td>7800.0</td>\n",
       "      <td>0.705882</td>\n",
       "      <td>0.015368</td>\n",
       "      <td>0.291574</td>\n",
       "    </tr>\n",
       "    <tr>\n",
       "      <th>4</th>\n",
       "      <td>u10026</td>\n",
       "      <td>60</td>\n",
       "      <td>42</td>\n",
       "      <td>65</td>\n",
       "      <td>3</td>\n",
       "      <td>mobile</td>\n",
       "      <td>48</td>\n",
       "      <td>1</td>\n",
       "      <td>720.0</td>\n",
       "      <td>0.700000</td>\n",
       "      <td>0.007837</td>\n",
       "      <td>0.284702</td>\n",
       "    </tr>\n",
       "    <tr>\n",
       "      <th>...</th>\n",
       "      <td>...</td>\n",
       "      <td>...</td>\n",
       "      <td>...</td>\n",
       "      <td>...</td>\n",
       "      <td>...</td>\n",
       "      <td>...</td>\n",
       "      <td>...</td>\n",
       "      <td>...</td>\n",
       "      <td>...</td>\n",
       "      <td>...</td>\n",
       "      <td>...</td>\n",
       "      <td>...</td>\n",
       "    </tr>\n",
       "    <tr>\n",
       "      <th>14360</th>\n",
       "      <td>u996</td>\n",
       "      <td>14</td>\n",
       "      <td>8</td>\n",
       "      <td>4</td>\n",
       "      <td>5</td>\n",
       "      <td>mobile</td>\n",
       "      <td>0</td>\n",
       "      <td>0</td>\n",
       "      <td>0.0</td>\n",
       "      <td>0.571429</td>\n",
       "      <td>0.001408</td>\n",
       "      <td>0.229416</td>\n",
       "    </tr>\n",
       "    <tr>\n",
       "      <th>14361</th>\n",
       "      <td>u9962</td>\n",
       "      <td>9</td>\n",
       "      <td>5</td>\n",
       "      <td>10</td>\n",
       "      <td>4</td>\n",
       "      <td>web</td>\n",
       "      <td>0</td>\n",
       "      <td>1</td>\n",
       "      <td>2400.0</td>\n",
       "      <td>0.555556</td>\n",
       "      <td>0.001408</td>\n",
       "      <td>0.223067</td>\n",
       "    </tr>\n",
       "    <tr>\n",
       "      <th>14362</th>\n",
       "      <td>u997</td>\n",
       "      <td>91</td>\n",
       "      <td>75</td>\n",
       "      <td>82</td>\n",
       "      <td>3</td>\n",
       "      <td>web</td>\n",
       "      <td>6</td>\n",
       "      <td>1</td>\n",
       "      <td>4320.0</td>\n",
       "      <td>0.824176</td>\n",
       "      <td>0.010776</td>\n",
       "      <td>0.336136</td>\n",
       "    </tr>\n",
       "    <tr>\n",
       "      <th>14363</th>\n",
       "      <td>u9977</td>\n",
       "      <td>127</td>\n",
       "      <td>88</td>\n",
       "      <td>133</td>\n",
       "      <td>1</td>\n",
       "      <td>mobile</td>\n",
       "      <td>4</td>\n",
       "      <td>0</td>\n",
       "      <td>0.0</td>\n",
       "      <td>0.692913</td>\n",
       "      <td>0.015980</td>\n",
       "      <td>0.286753</td>\n",
       "    </tr>\n",
       "    <tr>\n",
       "      <th>14364</th>\n",
       "      <td>u9988</td>\n",
       "      <td>200</td>\n",
       "      <td>133</td>\n",
       "      <td>189</td>\n",
       "      <td>1</td>\n",
       "      <td>web</td>\n",
       "      <td>9</td>\n",
       "      <td>2</td>\n",
       "      <td>6720.0</td>\n",
       "      <td>0.665000</td>\n",
       "      <td>0.023878</td>\n",
       "      <td>0.280327</td>\n",
       "    </tr>\n",
       "  </tbody>\n",
       "</table>\n",
       "<p>14343 rows × 12 columns</p>\n",
       "</div>"
      ],
      "text/plain": [
       "      username  num_of_questions_answered  num_of_correct_answers  \\\n",
       "0      u100043                        605                     264   \n",
       "1       u10019                       1761                    1412   \n",
       "2       u10020                        169                     115   \n",
       "3       u10021                        136                      96   \n",
       "4       u10026                         60                      42   \n",
       "...        ...                        ...                     ...   \n",
       "14360     u996                         14                       8   \n",
       "14361    u9962                          9                       5   \n",
       "14362     u997                         91                      75   \n",
       "14363    u9977                        127                      88   \n",
       "14364    u9988                        200                     133   \n",
       "\n",
       "       num_of_explanations  num_of_lectures devicesUsed  confidence_level  \\\n",
       "0                      412               22         web                24   \n",
       "1                     1766                3         web               105   \n",
       "2                      119                2     Unknown                19   \n",
       "3                      114                1     Unknown                 3   \n",
       "4                       65                3      mobile                48   \n",
       "...                    ...              ...         ...               ...   \n",
       "14360                    4                5      mobile                 0   \n",
       "14361                   10                4         web                 0   \n",
       "14362                   82                3         web                 6   \n",
       "14363                  133                1      mobile                 4   \n",
       "14364                  189                1         web                 9   \n",
       "\n",
       "       payments  duration  accuracy  mixed_cols  combined_metric  \n",
       "0             1    2400.0  0.436364    0.063614         0.212714  \n",
       "1             0       0.0  0.801817    0.216127         0.450403  \n",
       "2             1    4320.0  0.680473    0.017755         0.282843  \n",
       "3             2    7800.0  0.705882    0.015368         0.291574  \n",
       "4             1     720.0  0.700000    0.007837         0.284702  \n",
       "...         ...       ...       ...         ...              ...  \n",
       "14360         0       0.0  0.571429    0.001408         0.229416  \n",
       "14361         1    2400.0  0.555556    0.001408         0.223067  \n",
       "14362         1    4320.0  0.824176    0.010776         0.336136  \n",
       "14363         0       0.0  0.692913    0.015980         0.286753  \n",
       "14364         2    6720.0  0.665000    0.023878         0.280327  \n",
       "\n",
       "[14343 rows x 12 columns]"
      ]
     },
     "execution_count": 98,
     "metadata": {},
     "output_type": "execute_result"
    }
   ],
   "source": [
    "#reading the updated file\n",
    "mainDf1 = pd.read_csv('Table1.csv')\n",
    "mainDf1"
   ]
  },
  {
   "cell_type": "code",
   "execution_count": 28,
   "id": "7f593472",
   "metadata": {},
   "outputs": [],
   "source": [
    "num_cols = ['num_of_questions_answered', 'num_of_correct_answers','num_of_explanations', 'num_of_lectures', 'confidence_level']\n",
    "for i in num_cols:\n",
    "    mainDf1[i] = mainDf1[i].astype(int)"
   ]
  },
  {
   "cell_type": "code",
   "execution_count": 29,
   "id": "2123671c",
   "metadata": {},
   "outputs": [
    {
     "data": {
      "text/html": [
       "<div>\n",
       "<style scoped>\n",
       "    .dataframe tbody tr th:only-of-type {\n",
       "        vertical-align: middle;\n",
       "    }\n",
       "\n",
       "    .dataframe tbody tr th {\n",
       "        vertical-align: top;\n",
       "    }\n",
       "\n",
       "    .dataframe thead th {\n",
       "        text-align: right;\n",
       "    }\n",
       "</style>\n",
       "<table border=\"1\" class=\"dataframe\">\n",
       "  <thead>\n",
       "    <tr style=\"text-align: right;\">\n",
       "      <th></th>\n",
       "      <th>username</th>\n",
       "      <th>num_of_questions_answered</th>\n",
       "      <th>num_of_correct_answers</th>\n",
       "      <th>num_of_explanations</th>\n",
       "      <th>num_of_lectures</th>\n",
       "      <th>devicesUsed</th>\n",
       "      <th>confidence_level</th>\n",
       "      <th>payments</th>\n",
       "      <th>duration</th>\n",
       "    </tr>\n",
       "  </thead>\n",
       "  <tbody>\n",
       "    <tr>\n",
       "      <th>0</th>\n",
       "      <td>u100043</td>\n",
       "      <td>605</td>\n",
       "      <td>264</td>\n",
       "      <td>412</td>\n",
       "      <td>22</td>\n",
       "      <td>web</td>\n",
       "      <td>24</td>\n",
       "      <td>1</td>\n",
       "      <td>8640000000</td>\n",
       "    </tr>\n",
       "    <tr>\n",
       "      <th>1</th>\n",
       "      <td>u10019</td>\n",
       "      <td>1761</td>\n",
       "      <td>1412</td>\n",
       "      <td>1766</td>\n",
       "      <td>3</td>\n",
       "      <td>web</td>\n",
       "      <td>105</td>\n",
       "      <td>0</td>\n",
       "      <td>0</td>\n",
       "    </tr>\n",
       "    <tr>\n",
       "      <th>2</th>\n",
       "      <td>u10020</td>\n",
       "      <td>169</td>\n",
       "      <td>115</td>\n",
       "      <td>119</td>\n",
       "      <td>2</td>\n",
       "      <td>Unknown</td>\n",
       "      <td>19</td>\n",
       "      <td>1</td>\n",
       "      <td>15552000000</td>\n",
       "    </tr>\n",
       "    <tr>\n",
       "      <th>3</th>\n",
       "      <td>u10021</td>\n",
       "      <td>136</td>\n",
       "      <td>96</td>\n",
       "      <td>114</td>\n",
       "      <td>1</td>\n",
       "      <td>Unknown</td>\n",
       "      <td>3</td>\n",
       "      <td>2</td>\n",
       "      <td>28080000000</td>\n",
       "    </tr>\n",
       "    <tr>\n",
       "      <th>4</th>\n",
       "      <td>u10026</td>\n",
       "      <td>60</td>\n",
       "      <td>42</td>\n",
       "      <td>65</td>\n",
       "      <td>3</td>\n",
       "      <td>mobile</td>\n",
       "      <td>48</td>\n",
       "      <td>1</td>\n",
       "      <td>2592000000</td>\n",
       "    </tr>\n",
       "  </tbody>\n",
       "</table>\n",
       "</div>"
      ],
      "text/plain": [
       "  username  num_of_questions_answered  num_of_correct_answers  \\\n",
       "0  u100043                        605                     264   \n",
       "1   u10019                       1761                    1412   \n",
       "2   u10020                        169                     115   \n",
       "3   u10021                        136                      96   \n",
       "4   u10026                         60                      42   \n",
       "\n",
       "   num_of_explanations  num_of_lectures devicesUsed  confidence_level  \\\n",
       "0                  412               22         web                24   \n",
       "1                 1766                3         web               105   \n",
       "2                  119                2     Unknown                19   \n",
       "3                  114                1     Unknown                 3   \n",
       "4                   65                3      mobile                48   \n",
       "\n",
       "   payments     duration  \n",
       "0         1   8640000000  \n",
       "1         0            0  \n",
       "2         1  15552000000  \n",
       "3         2  28080000000  \n",
       "4         1   2592000000  "
      ]
     },
     "execution_count": 29,
     "metadata": {},
     "output_type": "execute_result"
    }
   ],
   "source": [
    "mainDf1.head()"
   ]
  },
  {
   "cell_type": "code",
   "execution_count": 30,
   "id": "ea7e6322",
   "metadata": {
    "scrolled": true
   },
   "outputs": [
    {
     "data": {
      "text/html": [
       "<div>\n",
       "<style scoped>\n",
       "    .dataframe tbody tr th:only-of-type {\n",
       "        vertical-align: middle;\n",
       "    }\n",
       "\n",
       "    .dataframe tbody tr th {\n",
       "        vertical-align: top;\n",
       "    }\n",
       "\n",
       "    .dataframe thead th {\n",
       "        text-align: right;\n",
       "    }\n",
       "</style>\n",
       "<table border=\"1\" class=\"dataframe\">\n",
       "  <thead>\n",
       "    <tr style=\"text-align: right;\">\n",
       "      <th></th>\n",
       "      <th>num_of_questions_answered</th>\n",
       "      <th>num_of_correct_answers</th>\n",
       "      <th>num_of_explanations</th>\n",
       "      <th>num_of_lectures</th>\n",
       "      <th>confidence_level</th>\n",
       "      <th>payments</th>\n",
       "      <th>duration</th>\n",
       "    </tr>\n",
       "  </thead>\n",
       "  <tbody>\n",
       "    <tr>\n",
       "      <th>count</th>\n",
       "      <td>14365.000000</td>\n",
       "      <td>14365.000000</td>\n",
       "      <td>14365.000000</td>\n",
       "      <td>14365.000000</td>\n",
       "      <td>14365.000000</td>\n",
       "      <td>14365.000000</td>\n",
       "      <td>1.436500e+04</td>\n",
       "    </tr>\n",
       "    <tr>\n",
       "      <th>mean</th>\n",
       "      <td>137.800278</td>\n",
       "      <td>89.614062</td>\n",
       "      <td>112.498016</td>\n",
       "      <td>4.475740</td>\n",
       "      <td>44.752872</td>\n",
       "      <td>0.221928</td>\n",
       "      <td>1.871419e+09</td>\n",
       "    </tr>\n",
       "    <tr>\n",
       "      <th>std</th>\n",
       "      <td>444.964031</td>\n",
       "      <td>302.548675</td>\n",
       "      <td>365.400012</td>\n",
       "      <td>17.875819</td>\n",
       "      <td>248.400894</td>\n",
       "      <td>0.498431</td>\n",
       "      <td>4.859313e+09</td>\n",
       "    </tr>\n",
       "    <tr>\n",
       "      <th>min</th>\n",
       "      <td>0.000000</td>\n",
       "      <td>0.000000</td>\n",
       "      <td>0.000000</td>\n",
       "      <td>0.000000</td>\n",
       "      <td>0.000000</td>\n",
       "      <td>0.000000</td>\n",
       "      <td>0.000000e+00</td>\n",
       "    </tr>\n",
       "    <tr>\n",
       "      <th>25%</th>\n",
       "      <td>6.000000</td>\n",
       "      <td>3.000000</td>\n",
       "      <td>0.000000</td>\n",
       "      <td>0.000000</td>\n",
       "      <td>0.000000</td>\n",
       "      <td>0.000000</td>\n",
       "      <td>0.000000e+00</td>\n",
       "    </tr>\n",
       "    <tr>\n",
       "      <th>50%</th>\n",
       "      <td>10.000000</td>\n",
       "      <td>5.000000</td>\n",
       "      <td>0.000000</td>\n",
       "      <td>0.000000</td>\n",
       "      <td>0.000000</td>\n",
       "      <td>0.000000</td>\n",
       "      <td>0.000000e+00</td>\n",
       "    </tr>\n",
       "    <tr>\n",
       "      <th>75%</th>\n",
       "      <td>56.000000</td>\n",
       "      <td>33.000000</td>\n",
       "      <td>49.000000</td>\n",
       "      <td>1.000000</td>\n",
       "      <td>4.000000</td>\n",
       "      <td>0.000000</td>\n",
       "      <td>0.000000e+00</td>\n",
       "    </tr>\n",
       "    <tr>\n",
       "      <th>max</th>\n",
       "      <td>8315.000000</td>\n",
       "      <td>5771.000000</td>\n",
       "      <td>7772.000000</td>\n",
       "      <td>484.000000</td>\n",
       "      <td>7395.000000</td>\n",
       "      <td>6.000000</td>\n",
       "      <td>4.665600e+10</td>\n",
       "    </tr>\n",
       "  </tbody>\n",
       "</table>\n",
       "</div>"
      ],
      "text/plain": [
       "       num_of_questions_answered  num_of_correct_answers  num_of_explanations  \\\n",
       "count               14365.000000            14365.000000         14365.000000   \n",
       "mean                  137.800278               89.614062           112.498016   \n",
       "std                   444.964031              302.548675           365.400012   \n",
       "min                     0.000000                0.000000             0.000000   \n",
       "25%                     6.000000                3.000000             0.000000   \n",
       "50%                    10.000000                5.000000             0.000000   \n",
       "75%                    56.000000               33.000000            49.000000   \n",
       "max                  8315.000000             5771.000000          7772.000000   \n",
       "\n",
       "       num_of_lectures  confidence_level      payments      duration  \n",
       "count     14365.000000      14365.000000  14365.000000  1.436500e+04  \n",
       "mean          4.475740         44.752872      0.221928  1.871419e+09  \n",
       "std          17.875819        248.400894      0.498431  4.859313e+09  \n",
       "min           0.000000          0.000000      0.000000  0.000000e+00  \n",
       "25%           0.000000          0.000000      0.000000  0.000000e+00  \n",
       "50%           0.000000          0.000000      0.000000  0.000000e+00  \n",
       "75%           1.000000          4.000000      0.000000  0.000000e+00  \n",
       "max         484.000000       7395.000000      6.000000  4.665600e+10  "
      ]
     },
     "execution_count": 30,
     "metadata": {},
     "output_type": "execute_result"
    }
   ],
   "source": [
    "mainDf1.describe()"
   ]
  },
  {
   "cell_type": "code",
   "execution_count": 32,
   "id": "f06373d9",
   "metadata": {
    "scrolled": true
   },
   "outputs": [
    {
     "data": {
      "text/plain": [
       "0    11648\n",
       "1     2304\n",
       "2      366\n",
       "3       39\n",
       "4        6\n",
       "5        1\n",
       "6        1\n",
       "Name: payments, dtype: int64"
      ]
     },
     "execution_count": 32,
     "metadata": {},
     "output_type": "execute_result"
    }
   ],
   "source": [
    "# Majority of students haven't made a payment\n",
    "mainDf1['payments'].value_counts()"
   ]
  },
  {
   "cell_type": "code",
   "execution_count": 33,
   "id": "38e6f39c",
   "metadata": {},
   "outputs": [],
   "source": [
    "mainDf1['duration'] =mainDf1['duration']/ 3600000"
   ]
  },
  {
   "cell_type": "code",
   "execution_count": 34,
   "id": "a3a35139",
   "metadata": {
    "scrolled": true
   },
   "outputs": [
    {
     "data": {
      "image/png": "[encoded data removed]",
      "text/plain": [
       "<Figure size 432x288 with 1 Axes>"
      ]
     },
     "metadata": {
      "needs_background": "light"
     },
     "output_type": "display_data"
    }
   ],
   "source": [
    "plt.title('Distribution of duration bought by students')\n",
    "plt.xlabel('Number of hours')\n",
    "plt.ylabel('Frequency')\n",
    "mainDf1[mainDf1['duration']>0]['duration'].plot.hist()\n",
    "plt.show()"
   ]
  },
  {
   "cell_type": "code",
   "execution_count": 40,
   "id": "a1d13875",
   "metadata": {},
   "outputs": [
    {
     "data": {
      "text/plain": [
       "<AxesSubplot:xlabel='duration', ylabel='Percent'>"
      ]
     },
     "execution_count": 40,
     "metadata": {},
     "output_type": "execute_result"
    },
    {
     "data": {
      "image/png": "[encoded data removed]",
      "text/plain": [
       "<Figure size 432x288 with 1 Axes>"
      ]
     },
     "metadata": {
      "needs_background": "light"
     },
     "output_type": "display_data"
    }
   ],
   "source": [
    "import seaborn as sns\n",
    "sns.histplot(data=mainDf1, x='duration', hue='payments',stat='percent')"
   ]
  },
  {
   "cell_type": "markdown",
   "id": "5eacd248",
   "metadata": {},
   "source": [
    "### T-test for knowing the how users use explanation to boost the accuracy  "
   ]
  },
  {
   "cell_type": "code",
   "execution_count": 239,
   "id": "3253104b",
   "metadata": {
    "scrolled": false
   },
   "outputs": [
    {
     "data": {
      "text/plain": [
       "count    14365.000000\n",
       "mean         0.513932\n",
       "std          0.218839\n",
       "min          0.000000\n",
       "25%          0.375000\n",
       "50%          0.542553\n",
       "75%          0.666667\n",
       "max          1.000000\n",
       "Name: accuracy, dtype: float64"
      ]
     },
     "execution_count": 239,
     "metadata": {},
     "output_type": "execute_result"
    }
   ],
   "source": [
    "# Overall Accuracy Distribution\n",
    "mainDf1['accuracy'].describe()"
   ]
  },
  {
   "cell_type": "code",
   "execution_count": 102,
   "id": "74845011",
   "metadata": {},
   "outputs": [
    {
     "data": {
      "image/png": "[encoded data removed]",
      "text/plain": [
       "<Figure size 432x288 with 1 Axes>"
      ]
     },
     "metadata": {
      "needs_background": "light"
     },
     "output_type": "display_data"
    }
   ],
   "source": [
    "plt.title('Students(Number of explanations greater than 49)')\n",
    "mainDf1[mainDf1['num_of_explanations']>=49]['accuracy'].plot.box()\n",
    "plt.show()"
   ]
  },
  {
   "cell_type": "code",
   "execution_count": 103,
   "id": "151cccb4",
   "metadata": {
    "scrolled": false
   },
   "outputs": [
    {
     "data": {
      "image/png": "[encoded data removed]",
      "text/plain": [
       "<Figure size 432x288 with 1 Axes>"
      ]
     },
     "metadata": {
      "needs_background": "light"
     },
     "output_type": "display_data"
    }
   ],
   "source": [
    "plt.title('Students(Number of explanations less than 49)')\n",
    "mainDf1[mainDf1['num_of_explanations']<49]['accuracy'].plot.box()\n",
    "plt.show()"
   ]
  },
  {
   "cell_type": "code",
   "execution_count": 235,
   "id": "16e249dc",
   "metadata": {},
   "outputs": [
    {
     "data": {
      "text/plain": [
       "count    3606.000000\n",
       "mean        0.636719\n",
       "std         0.098404\n",
       "min         0.000000\n",
       "25%         0.580107\n",
       "50%         0.642857\n",
       "75%         0.703345\n",
       "max         0.960396\n",
       "Name: accuracy, dtype: float64"
      ]
     },
     "execution_count": 235,
     "metadata": {},
     "output_type": "execute_result"
    }
   ],
   "source": [
    "mainDf1[mainDf1['num_of_explanations']>=49]['accuracy'].describe()"
   ]
  },
  {
   "cell_type": "code",
   "execution_count": 236,
   "id": "212de815",
   "metadata": {},
   "outputs": [
    {
     "data": {
      "text/plain": [
       "count    10759.000000\n",
       "mean         0.472778\n",
       "std          0.232274\n",
       "min          0.000000\n",
       "25%          0.333333\n",
       "50%          0.500000\n",
       "75%          0.625000\n",
       "max          1.000000\n",
       "Name: accuracy, dtype: float64"
      ]
     },
     "execution_count": 236,
     "metadata": {},
     "output_type": "execute_result"
    }
   ],
   "source": [
    "mainDf1[mainDf1['num_of_explanations']<49]['accuracy'].describe()"
   ]
  },
  {
   "cell_type": "code",
   "execution_count": 105,
   "id": "36d28014",
   "metadata": {},
   "outputs": [
    {
     "data": {
      "image/png": "[encoded data removed]",
      "text/plain": [
       "<Figure size 432x288 with 1 Axes>"
      ]
     },
     "metadata": {
      "needs_background": "light"
     },
     "output_type": "display_data"
    }
   ],
   "source": [
    "plt.title('Number of questions attempted by the students with the accuracy 1')\n",
    "plt.xlabel('Questions')\n",
    "mainDf1[mainDf1['accuracy']==1]['num_of_questions_answered'].plot.hist()\n",
    "plt.show()"
   ]
  },
  {
   "cell_type": "code",
   "execution_count": 229,
   "id": "4f1b4e6d",
   "metadata": {},
   "outputs": [
    {
     "data": {
      "text/plain": [
       "Ttest_indResult(statistic=-37.45101527656958, pvalue=5.63345849081431e-293)"
      ]
     },
     "execution_count": 229,
     "metadata": {},
     "output_type": "execute_result"
    }
   ],
   "source": [
    "import scipy.stats as stats\n",
    "data_group1 = mainDf1[mainDf1['num_of_explanations']<49]['confidence_level'].values\n",
    "data_group2 = mainDf1[mainDf1['num_of_explanations']>=49]['confidence_level'].values\n",
    "stats.ttest_ind(a=data_group1, b=data_group2, equal_var=True)"
   ]
  },
  {
   "cell_type": "code",
   "execution_count": 240,
   "id": "34a2fd3c",
   "metadata": {},
   "outputs": [
    {
     "name": "stdout",
     "output_type": "stream",
     "text": [
      "Percent of the students who read more than 48 explanations:  0.2494256874347372\n"
     ]
    }
   ],
   "source": [
    "print('Percent of the students who read more than 48 explanations: ',mainDf1[mainDf1['num_of_explanations']>49].shape[0]/mainDf1.shape[0])"
   ]
  },
  {
   "cell_type": "code",
   "execution_count": 45,
   "id": "3c8a3cf6",
   "metadata": {},
   "outputs": [
    {
     "data": {
      "text/plain": [
       "1    34\n",
       "2    22\n",
       "0     8\n",
       "3     3\n",
       "Name: payments, dtype: int64"
      ]
     },
     "execution_count": 45,
     "metadata": {},
     "output_type": "execute_result"
    }
   ],
   "source": [
    "# Confidence level\n",
    "\n",
    "mainDf1[mainDf1['confidence_level']>1500]['payments'].value_counts()\n",
    "#mainDf1[mainDf1['confidence_level']>100]"
   ]
  },
  {
   "attachments": {},
   "cell_type": "markdown",
   "id": "5aadd86f",
   "metadata": {},
   "source": [
    "## Main finding on users: \n",
    "- In the sample of __14,365 students__, it is observed that the number of students using Web and Mobile as platform are significantly similar __(mobile:7433, Web:5396, Unknown:1536)__. Although more than 10% of the sample has \"Unknown\", it will be distributed among mobile or Web. The probable reason for the Unknown can be using the device not recognised by the app/software. \n",
    "- Nearly 25% of students in the sample have read more than 49 explanations, these students have significantly higher accuracy than the students who read less than 49 explanations. This states that reading more number of explanations  helps in improving the accuracy. __For the students who have accuracy of 1 and the number of explanations less than 49, these students have not answered more than 10 questions.__ \n",
    "- __T-test__ is conducted on the two groups mentioned in the above point. __The results suggests that with the confidence level of 95% , we reject the null hypothesis (H0:The difference in accuracy of both the groups is zero.). We observed significant difference in the accuracy of both the groups__.\n",
    "- Addtional three metrics to describe users that I used (\"Platform Used\", \"Type of Payments made by users\")\n",
    "- Third metric based on which I want to compare the users is how accuracy corresponds to the payments. Is there a pattern where the students making payments are progressing well and others are not. \n"
   ]
  },
  {
   "cell_type": "markdown",
   "id": "112329ad",
   "metadata": {},
   "source": [
    "# Part 2\n",
    "\n",
    "#### Creating the Questions Profile Table."
   ]
  },
  {
   "cell_type": "code",
   "execution_count": 141,
   "id": "5bb06849",
   "metadata": {},
   "outputs": [],
   "source": [
    "main_df = pd.DataFrame(columns=['question_id', 'correct_answer', 'user_answer', 'correct_flag',\n",
    "       'question_flag'])\n",
    "questionsdf = pd.read_csv('./EdNet-Contents/contents/questions.csv')\n",
    "for i in os.listdir('./EdNet-KT4/KT4/'):\n",
    "    df = pd.read_csv('./EdNet-KT4/KT4/'+i)\n",
    "    repond_responses = df[df['action_type']=='respond']\n",
    "    tempdf = questionsdf[questionsdf['question_id'].isin(repond_responses['item_id'])][['question_id','correct_answer']]\n",
    "    repond_responses2 =  pd.merge(left=tempdf, right=repond_responses, left_on='question_id', right_on='item_id', how='right')\n",
    "    repond_responses2.drop(columns=['item_id', 'timestamp','cursor_time','source','action_type','platform'], inplace=True)\n",
    "    repond_responses2['correct_flag'] = np.where((repond_responses2['user_answer'] == repond_responses2['correct_answer']), \n",
    "                                            1, 0)\n",
    "    repond_responses2['question_flag']=1\n",
    "    main_df = main_df.append(repond_responses2, ignore_index=True)"
   ]
  },
  {
   "cell_type": "code",
   "execution_count": 142,
   "id": "382dd5d4",
   "metadata": {},
   "outputs": [
    {
     "data": {
      "text/plain": [
       "q3935     3439\n",
       "q11261    3241\n",
       "q11263    3163\n",
       "q11259    3047\n",
       "q3788     3035\n",
       "          ... \n",
       "q7651       10\n",
       "q17661      10\n",
       "q7747        9\n",
       "q17660       9\n",
       "q16961       4\n",
       "Name: question_id, Length: 11551, dtype: int64"
      ]
     },
     "execution_count": 142,
     "metadata": {},
     "output_type": "execute_result"
    }
   ],
   "source": [
    "main_df['question_id'].value_counts()"
   ]
  },
  {
   "cell_type": "code",
   "execution_count": 146,
   "id": "eb0923fd",
   "metadata": {},
   "outputs": [
    {
     "data": {
      "text/html": [
       "<div>\n",
       "<style scoped>\n",
       "    .dataframe tbody tr th:only-of-type {\n",
       "        vertical-align: middle;\n",
       "    }\n",
       "\n",
       "    .dataframe tbody tr th {\n",
       "        vertical-align: top;\n",
       "    }\n",
       "\n",
       "    .dataframe thead th {\n",
       "        text-align: right;\n",
       "    }\n",
       "</style>\n",
       "<table border=\"1\" class=\"dataframe\">\n",
       "  <thead>\n",
       "    <tr style=\"text-align: right;\">\n",
       "      <th></th>\n",
       "      <th>index</th>\n",
       "      <th>question_id</th>\n",
       "      <th>correct_answer</th>\n",
       "      <th>user_answer</th>\n",
       "      <th>correct_flag</th>\n",
       "      <th>question_flag</th>\n",
       "    </tr>\n",
       "  </thead>\n",
       "  <tbody>\n",
       "    <tr>\n",
       "      <th>0</th>\n",
       "      <td>0</td>\n",
       "      <td>q4078</td>\n",
       "      <td>c</td>\n",
       "      <td>c</td>\n",
       "      <td>1</td>\n",
       "      <td>1</td>\n",
       "    </tr>\n",
       "    <tr>\n",
       "      <th>1</th>\n",
       "      <td>1</td>\n",
       "      <td>q6068</td>\n",
       "      <td>a</td>\n",
       "      <td>b</td>\n",
       "      <td>0</td>\n",
       "      <td>1</td>\n",
       "    </tr>\n",
       "    <tr>\n",
       "      <th>2</th>\n",
       "      <td>2</td>\n",
       "      <td>q6056</td>\n",
       "      <td>b</td>\n",
       "      <td>d</td>\n",
       "      <td>0</td>\n",
       "      <td>1</td>\n",
       "    </tr>\n",
       "    <tr>\n",
       "      <th>3</th>\n",
       "      <td>3</td>\n",
       "      <td>q4719</td>\n",
       "      <td>b</td>\n",
       "      <td>d</td>\n",
       "      <td>0</td>\n",
       "      <td>1</td>\n",
       "    </tr>\n",
       "    <tr>\n",
       "      <th>4</th>\n",
       "      <td>4</td>\n",
       "      <td>q6725</td>\n",
       "      <td>c</td>\n",
       "      <td>d</td>\n",
       "      <td>0</td>\n",
       "      <td>1</td>\n",
       "    </tr>\n",
       "  </tbody>\n",
       "</table>\n",
       "</div>"
      ],
      "text/plain": [
       "   index question_id correct_answer user_answer correct_flag question_flag\n",
       "0      0       q4078              c           c            1             1\n",
       "1      1       q6068              a           b            0             1\n",
       "2      2       q6056              b           d            0             1\n",
       "3      3       q4719              b           d            0             1\n",
       "4      4       q6725              c           d            0             1"
      ]
     },
     "execution_count": 146,
     "metadata": {},
     "output_type": "execute_result"
    }
   ],
   "source": [
    "main_df.head()"
   ]
  },
  {
   "cell_type": "code",
   "execution_count": 147,
   "id": "3e63be09",
   "metadata": {},
   "outputs": [],
   "source": [
    "main_df.to_csv('QuestionProfileTable2.csv')"
   ]
  },
  {
   "cell_type": "code",
   "execution_count": 47,
   "id": "a74dd193",
   "metadata": {},
   "outputs": [
    {
     "data": {
      "text/html": [
       "<div>\n",
       "<style scoped>\n",
       "    .dataframe tbody tr th:only-of-type {\n",
       "        vertical-align: middle;\n",
       "    }\n",
       "\n",
       "    .dataframe tbody tr th {\n",
       "        vertical-align: top;\n",
       "    }\n",
       "\n",
       "    .dataframe thead th {\n",
       "        text-align: right;\n",
       "    }\n",
       "</style>\n",
       "<table border=\"1\" class=\"dataframe\">\n",
       "  <thead>\n",
       "    <tr style=\"text-align: right;\">\n",
       "      <th></th>\n",
       "      <th>Unnamed: 0</th>\n",
       "      <th>index</th>\n",
       "      <th>question_id</th>\n",
       "      <th>correct_answer</th>\n",
       "      <th>user_answer</th>\n",
       "      <th>correct_flag</th>\n",
       "      <th>question_flag</th>\n",
       "    </tr>\n",
       "  </thead>\n",
       "  <tbody>\n",
       "    <tr>\n",
       "      <th>0</th>\n",
       "      <td>0</td>\n",
       "      <td>0</td>\n",
       "      <td>q4078</td>\n",
       "      <td>c</td>\n",
       "      <td>c</td>\n",
       "      <td>1</td>\n",
       "      <td>1</td>\n",
       "    </tr>\n",
       "    <tr>\n",
       "      <th>1</th>\n",
       "      <td>1</td>\n",
       "      <td>1</td>\n",
       "      <td>q6068</td>\n",
       "      <td>a</td>\n",
       "      <td>b</td>\n",
       "      <td>0</td>\n",
       "      <td>1</td>\n",
       "    </tr>\n",
       "    <tr>\n",
       "      <th>2</th>\n",
       "      <td>2</td>\n",
       "      <td>2</td>\n",
       "      <td>q6056</td>\n",
       "      <td>b</td>\n",
       "      <td>d</td>\n",
       "      <td>0</td>\n",
       "      <td>1</td>\n",
       "    </tr>\n",
       "    <tr>\n",
       "      <th>3</th>\n",
       "      <td>3</td>\n",
       "      <td>3</td>\n",
       "      <td>q4719</td>\n",
       "      <td>b</td>\n",
       "      <td>d</td>\n",
       "      <td>0</td>\n",
       "      <td>1</td>\n",
       "    </tr>\n",
       "    <tr>\n",
       "      <th>4</th>\n",
       "      <td>4</td>\n",
       "      <td>4</td>\n",
       "      <td>q6725</td>\n",
       "      <td>c</td>\n",
       "      <td>d</td>\n",
       "      <td>0</td>\n",
       "      <td>1</td>\n",
       "    </tr>\n",
       "    <tr>\n",
       "      <th>...</th>\n",
       "      <td>...</td>\n",
       "      <td>...</td>\n",
       "      <td>...</td>\n",
       "      <td>...</td>\n",
       "      <td>...</td>\n",
       "      <td>...</td>\n",
       "      <td>...</td>\n",
       "    </tr>\n",
       "    <tr>\n",
       "      <th>3062967</th>\n",
       "      <td>3062967</td>\n",
       "      <td>3062967</td>\n",
       "      <td>q9672</td>\n",
       "      <td>a</td>\n",
       "      <td>b</td>\n",
       "      <td>0</td>\n",
       "      <td>1</td>\n",
       "    </tr>\n",
       "    <tr>\n",
       "      <th>3062968</th>\n",
       "      <td>3062968</td>\n",
       "      <td>3062968</td>\n",
       "      <td>q6071</td>\n",
       "      <td>b</td>\n",
       "      <td>c</td>\n",
       "      <td>0</td>\n",
       "      <td>1</td>\n",
       "    </tr>\n",
       "    <tr>\n",
       "      <th>3062969</th>\n",
       "      <td>3062969</td>\n",
       "      <td>3062969</td>\n",
       "      <td>q3700</td>\n",
       "      <td>a</td>\n",
       "      <td>a</td>\n",
       "      <td>1</td>\n",
       "      <td>1</td>\n",
       "    </tr>\n",
       "    <tr>\n",
       "      <th>3062970</th>\n",
       "      <td>3062970</td>\n",
       "      <td>3062970</td>\n",
       "      <td>q6071</td>\n",
       "      <td>b</td>\n",
       "      <td>b</td>\n",
       "      <td>1</td>\n",
       "      <td>1</td>\n",
       "    </tr>\n",
       "    <tr>\n",
       "      <th>3062971</th>\n",
       "      <td>3062971</td>\n",
       "      <td>3062971</td>\n",
       "      <td>q3961</td>\n",
       "      <td>a</td>\n",
       "      <td>a</td>\n",
       "      <td>1</td>\n",
       "      <td>1</td>\n",
       "    </tr>\n",
       "  </tbody>\n",
       "</table>\n",
       "<p>3062972 rows × 7 columns</p>\n",
       "</div>"
      ],
      "text/plain": [
       "         Unnamed: 0    index question_id correct_answer user_answer  \\\n",
       "0                 0        0       q4078              c           c   \n",
       "1                 1        1       q6068              a           b   \n",
       "2                 2        2       q6056              b           d   \n",
       "3                 3        3       q4719              b           d   \n",
       "4                 4        4       q6725              c           d   \n",
       "...             ...      ...         ...            ...         ...   \n",
       "3062967     3062967  3062967       q9672              a           b   \n",
       "3062968     3062968  3062968       q6071              b           c   \n",
       "3062969     3062969  3062969       q3700              a           a   \n",
       "3062970     3062970  3062970       q6071              b           b   \n",
       "3062971     3062971  3062971       q3961              a           a   \n",
       "\n",
       "         correct_flag  question_flag  \n",
       "0                   1              1  \n",
       "1                   0              1  \n",
       "2                   0              1  \n",
       "3                   0              1  \n",
       "4                   0              1  \n",
       "...               ...            ...  \n",
       "3062967             0              1  \n",
       "3062968             0              1  \n",
       "3062969             1              1  \n",
       "3062970             1              1  \n",
       "3062971             1              1  \n",
       "\n",
       "[3062972 rows x 7 columns]"
      ]
     },
     "execution_count": 47,
     "metadata": {},
     "output_type": "execute_result"
    }
   ],
   "source": [
    "main_df = pd.read_csv('QuestionProfileTable2.csv')\n",
    "main_df"
   ]
  },
  {
   "cell_type": "code",
   "execution_count": 48,
   "id": "fd8be407",
   "metadata": {},
   "outputs": [],
   "source": [
    "questions_groupby = main_df.groupby(by='question_id')[['correct_flag', 'question_flag']].sum().reset_index()"
   ]
  },
  {
   "cell_type": "code",
   "execution_count": 49,
   "id": "4531e37d",
   "metadata": {},
   "outputs": [],
   "source": [
    "questions_groupby2 = pd.merge(left=questionsdf,right=questions_groupby,on='question_id')"
   ]
  },
  {
   "cell_type": "code",
   "execution_count": 50,
   "id": "3ad5ac8c",
   "metadata": {},
   "outputs": [],
   "source": [
    "questions_groupby2.to_csv('QuestionProfileMain.csv')"
   ]
  },
  {
   "cell_type": "code",
   "execution_count": 51,
   "id": "04c8a243",
   "metadata": {},
   "outputs": [],
   "source": [
    "questions_groupby2['accuracy'] =questions_groupby2['correct_flag']/questions_groupby2['question_flag'] "
   ]
  },
  {
   "cell_type": "code",
   "execution_count": 52,
   "id": "7a4b7783",
   "metadata": {},
   "outputs": [
    {
     "data": {
      "text/html": [
       "<div>\n",
       "<style scoped>\n",
       "    .dataframe tbody tr th:only-of-type {\n",
       "        vertical-align: middle;\n",
       "    }\n",
       "\n",
       "    .dataframe tbody tr th {\n",
       "        vertical-align: top;\n",
       "    }\n",
       "\n",
       "    .dataframe thead th {\n",
       "        text-align: right;\n",
       "    }\n",
       "</style>\n",
       "<table border=\"1\" class=\"dataframe\">\n",
       "  <thead>\n",
       "    <tr style=\"text-align: right;\">\n",
       "      <th></th>\n",
       "      <th>question_id</th>\n",
       "      <th>bundle_id</th>\n",
       "      <th>explanation_id</th>\n",
       "      <th>correct_answer</th>\n",
       "      <th>part</th>\n",
       "      <th>tags</th>\n",
       "      <th>deployed_at</th>\n",
       "      <th>correct_flag</th>\n",
       "      <th>question_flag</th>\n",
       "      <th>accuracy</th>\n",
       "    </tr>\n",
       "  </thead>\n",
       "  <tbody>\n",
       "    <tr>\n",
       "      <th>0</th>\n",
       "      <td>q1</td>\n",
       "      <td>b1</td>\n",
       "      <td>e1</td>\n",
       "      <td>b</td>\n",
       "      <td>1</td>\n",
       "      <td>1;2;179;181</td>\n",
       "      <td>1558093217098</td>\n",
       "      <td>196</td>\n",
       "      <td>229</td>\n",
       "      <td>0.855895</td>\n",
       "    </tr>\n",
       "    <tr>\n",
       "      <th>1</th>\n",
       "      <td>q2</td>\n",
       "      <td>b2</td>\n",
       "      <td>e2</td>\n",
       "      <td>a</td>\n",
       "      <td>1</td>\n",
       "      <td>15;2;182</td>\n",
       "      <td>1558093219720</td>\n",
       "      <td>192</td>\n",
       "      <td>215</td>\n",
       "      <td>0.893023</td>\n",
       "    </tr>\n",
       "    <tr>\n",
       "      <th>2</th>\n",
       "      <td>q3</td>\n",
       "      <td>b3</td>\n",
       "      <td>e3</td>\n",
       "      <td>b</td>\n",
       "      <td>1</td>\n",
       "      <td>14;2;179;183</td>\n",
       "      <td>1558093222784</td>\n",
       "      <td>824</td>\n",
       "      <td>1601</td>\n",
       "      <td>0.514678</td>\n",
       "    </tr>\n",
       "    <tr>\n",
       "      <th>3</th>\n",
       "      <td>q4</td>\n",
       "      <td>b4</td>\n",
       "      <td>e4</td>\n",
       "      <td>b</td>\n",
       "      <td>1</td>\n",
       "      <td>9;2;179;184</td>\n",
       "      <td>1558093225357</td>\n",
       "      <td>519</td>\n",
       "      <td>693</td>\n",
       "      <td>0.748918</td>\n",
       "    </tr>\n",
       "    <tr>\n",
       "      <th>4</th>\n",
       "      <td>q5</td>\n",
       "      <td>b5</td>\n",
       "      <td>e5</td>\n",
       "      <td>c</td>\n",
       "      <td>1</td>\n",
       "      <td>8;2;179;181</td>\n",
       "      <td>1558093228439</td>\n",
       "      <td>317</td>\n",
       "      <td>810</td>\n",
       "      <td>0.391358</td>\n",
       "    </tr>\n",
       "    <tr>\n",
       "      <th>...</th>\n",
       "      <td>...</td>\n",
       "      <td>...</td>\n",
       "      <td>...</td>\n",
       "      <td>...</td>\n",
       "      <td>...</td>\n",
       "      <td>...</td>\n",
       "      <td>...</td>\n",
       "      <td>...</td>\n",
       "      <td>...</td>\n",
       "      <td>...</td>\n",
       "    </tr>\n",
       "    <tr>\n",
       "      <th>11546</th>\n",
       "      <td>q18139</td>\n",
       "      <td>b12202</td>\n",
       "      <td>e12202</td>\n",
       "      <td>b</td>\n",
       "      <td>2</td>\n",
       "      <td>24;26;183;182</td>\n",
       "      <td>1571733814684</td>\n",
       "      <td>24</td>\n",
       "      <td>28</td>\n",
       "      <td>0.857143</td>\n",
       "    </tr>\n",
       "    <tr>\n",
       "      <th>11547</th>\n",
       "      <td>q18140</td>\n",
       "      <td>b12203</td>\n",
       "      <td>e12203</td>\n",
       "      <td>a</td>\n",
       "      <td>2</td>\n",
       "      <td>24;33;183;182</td>\n",
       "      <td>1571733815331</td>\n",
       "      <td>19</td>\n",
       "      <td>23</td>\n",
       "      <td>0.826087</td>\n",
       "    </tr>\n",
       "    <tr>\n",
       "      <th>11548</th>\n",
       "      <td>q18141</td>\n",
       "      <td>b12204</td>\n",
       "      <td>e12204</td>\n",
       "      <td>a</td>\n",
       "      <td>2</td>\n",
       "      <td>24;26;183;182</td>\n",
       "      <td>1571733815951</td>\n",
       "      <td>16</td>\n",
       "      <td>17</td>\n",
       "      <td>0.941176</td>\n",
       "    </tr>\n",
       "    <tr>\n",
       "      <th>11549</th>\n",
       "      <td>q18142</td>\n",
       "      <td>b12205</td>\n",
       "      <td>e12205</td>\n",
       "      <td>a</td>\n",
       "      <td>2</td>\n",
       "      <td>24;26;183;182</td>\n",
       "      <td>1571733816585</td>\n",
       "      <td>16</td>\n",
       "      <td>22</td>\n",
       "      <td>0.727273</td>\n",
       "    </tr>\n",
       "    <tr>\n",
       "      <th>11550</th>\n",
       "      <td>q18143</td>\n",
       "      <td>b12206</td>\n",
       "      <td>e12206</td>\n",
       "      <td>c</td>\n",
       "      <td>2</td>\n",
       "      <td>27;24;26;183;182</td>\n",
       "      <td>1571733817400</td>\n",
       "      <td>33</td>\n",
       "      <td>41</td>\n",
       "      <td>0.804878</td>\n",
       "    </tr>\n",
       "  </tbody>\n",
       "</table>\n",
       "<p>11551 rows × 10 columns</p>\n",
       "</div>"
      ],
      "text/plain": [
       "      question_id bundle_id explanation_id correct_answer  part  \\\n",
       "0              q1        b1             e1              b     1   \n",
       "1              q2        b2             e2              a     1   \n",
       "2              q3        b3             e3              b     1   \n",
       "3              q4        b4             e4              b     1   \n",
       "4              q5        b5             e5              c     1   \n",
       "...           ...       ...            ...            ...   ...   \n",
       "11546      q18139    b12202         e12202              b     2   \n",
       "11547      q18140    b12203         e12203              a     2   \n",
       "11548      q18141    b12204         e12204              a     2   \n",
       "11549      q18142    b12205         e12205              a     2   \n",
       "11550      q18143    b12206         e12206              c     2   \n",
       "\n",
       "                   tags    deployed_at  correct_flag  question_flag  accuracy  \n",
       "0           1;2;179;181  1558093217098           196            229  0.855895  \n",
       "1              15;2;182  1558093219720           192            215  0.893023  \n",
       "2          14;2;179;183  1558093222784           824           1601  0.514678  \n",
       "3           9;2;179;184  1558093225357           519            693  0.748918  \n",
       "4           8;2;179;181  1558093228439           317            810  0.391358  \n",
       "...                 ...            ...           ...            ...       ...  \n",
       "11546     24;26;183;182  1571733814684            24             28  0.857143  \n",
       "11547     24;33;183;182  1571733815331            19             23  0.826087  \n",
       "11548     24;26;183;182  1571733815951            16             17  0.941176  \n",
       "11549     24;26;183;182  1571733816585            16             22  0.727273  \n",
       "11550  27;24;26;183;182  1571733817400            33             41  0.804878  \n",
       "\n",
       "[11551 rows x 10 columns]"
      ]
     },
     "execution_count": 52,
     "metadata": {},
     "output_type": "execute_result"
    }
   ],
   "source": [
    "questions_groupby2"
   ]
  },
  {
   "cell_type": "code",
   "execution_count": 100,
   "id": "8a90e6a1",
   "metadata": {
    "scrolled": false
   },
   "outputs": [
    {
     "data": {
      "image/png": "[encoded data removed]",
      "text/plain": [
       "<Figure size 432x288 with 1 Axes>"
      ]
     },
     "metadata": {
      "needs_background": "light"
     },
     "output_type": "display_data"
    }
   ],
   "source": [
    "plt.title('Accuracy Distribution')\n",
    "plt.xlabel('Accuracy')\n",
    "questions_groupby2['accuracy'].plot.hist()\n",
    "plt.show()"
   ]
  },
  {
   "cell_type": "code",
   "execution_count": 56,
   "id": "6849e749",
   "metadata": {
    "scrolled": true
   },
   "outputs": [
    {
     "name": "stderr",
     "output_type": "stream",
     "text": [
      "C:\\Users\\Nishit Vyas\\anaconda3\\lib\\site-packages\\seaborn\\_decorators.py:36: FutureWarning: Pass the following variable as a keyword arg: x. From version 0.12, the only valid positional argument will be `data`, and passing other arguments without an explicit keyword will result in an error or misinterpretation.\n",
      "  warnings.warn(\n"
     ]
    },
    {
     "data": {
      "image/png": "[encoded data removed]",
      "text/plain": [
       "<Figure size 432x288 with 1 Axes>"
      ]
     },
     "metadata": {
      "needs_background": "light"
     },
     "output_type": "display_data"
    }
   ],
   "source": [
    "sns.countplot(questions_groupby2['part'])\n",
    "plt.show()"
   ]
  },
  {
   "cell_type": "code",
   "execution_count": 63,
   "id": "d679275b",
   "metadata": {},
   "outputs": [
    {
     "data": {
      "image/png": "[encoded data removed]",
      "text/plain": [
       "<Figure size 432x288 with 1 Axes>"
      ]
     },
     "metadata": {
      "needs_background": "light"
     },
     "output_type": "display_data"
    }
   ],
   "source": [
    "sns.boxplot(data=questions_groupby2, x = 'part', y='accuracy')\n",
    "plt.hlines(y=0.7,colors='b',xmax=7,xmin=-1)\n",
    "plt.show()"
   ]
  },
  {
   "cell_type": "markdown",
   "id": "82b15ec8",
   "metadata": {},
   "source": [
    "__The questions in part 5 is maximum, due to this the accuracy of question in part 5 is significantly lower than other parts.__"
   ]
  },
  {
   "cell_type": "markdown",
   "id": "86795b54",
   "metadata": {},
   "source": [
    "## Understanding how questions are divided as per the accuracy of the questions.\n",
    "\n",
    "- The main finding here was 25% of tags can be classified as difficult as the accuracy was less than 50%. Further information on how many times these questions are attempted should also be taken into the consideration. \n",
    "- The difficulty of questions increases with the part number."
   ]
  },
  {
   "cell_type": "code",
   "execution_count": 285,
   "id": "62a8a0c2",
   "metadata": {},
   "outputs": [
    {
     "data": {
      "text/plain": [
       "count    11551.000000\n",
       "mean         0.614274\n",
       "std          0.158171\n",
       "min          0.061856\n",
       "25%          0.503605\n",
       "50%          0.617143\n",
       "75%          0.730769\n",
       "max          1.000000\n",
       "Name: accuracy, dtype: float64"
      ]
     },
     "execution_count": 285,
     "metadata": {},
     "output_type": "execute_result"
    }
   ],
   "source": [
    "questions_groupby2['accuracy'].describe()"
   ]
  },
  {
   "cell_type": "code",
   "execution_count": 291,
   "id": "38c10b96",
   "metadata": {},
   "outputs": [
    {
     "data": {
      "text/plain": [
       "5    1690\n",
       "6     280\n",
       "4     226\n",
       "7     217\n",
       "3     202\n",
       "2     110\n",
       "1      56\n",
       "Name: part, dtype: int64"
      ]
     },
     "execution_count": 291,
     "metadata": {},
     "output_type": "execute_result"
    }
   ],
   "source": [
    "questions_groupby2[questions_groupby2['accuracy']<0.5]['part'].value_counts()"
   ]
  },
  {
   "cell_type": "code",
   "execution_count": 292,
   "id": "73cd61fb",
   "metadata": {
    "scrolled": true
   },
   "outputs": [
    {
     "data": {
      "text/plain": [
       "85                             264\n",
       "74                             203\n",
       "77                             193\n",
       "76                             174\n",
       "83                             136\n",
       "                              ... \n",
       "146;158;166;179;178;153;178      1\n",
       "52;184;182;181                   1\n",
       "30;24;25;182;181                 1\n",
       "52;184;181;185                   1\n",
       "146;147;179;176;151;176          1\n",
       "Name: tags, Length: 579, dtype: int64"
      ]
     },
     "execution_count": 292,
     "metadata": {},
     "output_type": "execute_result"
    }
   ],
   "source": [
    "questions_groupby2[questions_groupby2['accuracy']<0.5]['tags'].value_counts()"
   ]
  },
  {
   "cell_type": "code",
   "execution_count": 297,
   "id": "142e0924",
   "metadata": {},
   "outputs": [
    {
     "data": {
      "text/plain": [
       "5    3292\n",
       "2    1436\n",
       "6     914\n",
       "3     883\n",
       "7     850\n",
       "4     775\n",
       "1     565\n",
       "Name: part, dtype: int64"
      ]
     },
     "execution_count": 297,
     "metadata": {},
     "output_type": "execute_result"
    }
   ],
   "source": [
    "questions_groupby2[questions_groupby2['accuracy']>0.5]['part'].value_counts()"
   ]
  },
  {
   "cell_type": "code",
   "execution_count": 293,
   "id": "69181a32",
   "metadata": {
    "scrolled": true
   },
   "outputs": [
    {
     "data": {
      "text/plain": [
       "74                     462\n",
       "85                     317\n",
       "77                     303\n",
       "71                     219\n",
       "76                     215\n",
       "                      ... \n",
       "23;24;25;184;181         1\n",
       "159;179;177;156;177      1\n",
       "6;7;179;181              1\n",
       "30;38;39;184;181         1\n",
       "179;53;185;183           1\n",
       "Name: tags, Length: 1564, dtype: int64"
      ]
     },
     "execution_count": 293,
     "metadata": {},
     "output_type": "execute_result"
    }
   ],
   "source": [
    "questions_groupby2[questions_groupby2['accuracy']>0.5]['tags'].value_counts()"
   ]
  },
  {
   "cell_type": "markdown",
   "id": "62567c93",
   "metadata": {},
   "source": [
    "# Part 3\n",
    "## Modified metric for accuracy\n",
    "\n",
    "- The new metric can be developed considering the duration, num_of_explanation_read, num_of_lecture_watched along with the num_of_correct_answers. Simplifying more, there should be two different metric such as \"Activity metric\" and \"Existing accuracy\".\n",
    "- The combination of both the metrics will be the final metric. Weights can be given to the columns contributing in activity tracking. Earlier, we got to know that reading explanation has helped the students significantly in improving the number of correct answers. Therefore more weight should be given to the number of explantion parameter. \n",
    "\n"
   ]
  },
  {
   "cell_type": "code",
   "execution_count": 75,
   "id": "fef5c87a",
   "metadata": {},
   "outputs": [],
   "source": [
    "mainDf1['mixed_cols'] = mainDf1['num_of_questions_answered']+mainDf1['num_of_explanations']+mainDf1['num_of_lectures']\n",
    "mainDf1['mixed_cols'] = mainDf1['mixed_cols']/mainDf1['mixed_cols'].max()"
   ]
  },
  {
   "cell_type": "code",
   "execution_count": 79,
   "id": "cff44762",
   "metadata": {},
   "outputs": [],
   "source": [
    "mainDf1.drop(mainDf1[mainDf1['mixed_cols']==0].index, inplace=True)"
   ]
  },
  {
   "cell_type": "code",
   "execution_count": 81,
   "id": "b8764cf3",
   "metadata": {},
   "outputs": [],
   "source": [
    "mainDf1['combined_metric'] = 0.6*mainDf1['mixed_cols'] + 0.4*mainDf1['accuracy']"
   ]
  },
  {
   "cell_type": "code",
   "execution_count": 87,
   "id": "3db3ae9c",
   "metadata": {},
   "outputs": [
    {
     "data": {
      "image/png": "[encoded data removed]",
      "text/plain": [
       "<Figure size 432x288 with 2 Axes>"
      ]
     },
     "metadata": {
      "needs_background": "light"
     },
     "output_type": "display_data"
    }
   ],
   "source": [
    "plt.subplot(1,2,1)\n",
    "mainDf1['combined_metric'].plot.box()\n",
    "#plt.plot.box(mainDf1['combined_metric'])\n",
    "plt.subplot(1,2,2)\n",
    "mainDf1['accuracy'].plot.box()\n",
    "#plt.plot.box(mainDf1['accuracy'])\n",
    "plt.show()"
   ]
  },
  {
   "cell_type": "markdown",
   "id": "8b925655",
   "metadata": {},
   "source": [
    "## Observations on Metrics\n",
    "- After considering the other paramters, the distribution in metrics changed significantly. The median dropped to around 20%. Althought there are many outliers in the combined metric which gives a solid idea on how the students are exploring the application and software. Majority of students have the combined metric less than 50% but the students who have gone through the different material in the application and answered well are there as the outliers(in the box plot). "
   ]
  },
  {
   "cell_type": "markdown",
   "id": "d1003030",
   "metadata": {},
   "source": [
    "# Part 4\n",
    "Pick a user with a reasonable amount of activity (you will need to define the “reasonableness” and specify the criteria) and create a dashboard that consists of a series of plots to tell a story of this user’s activity patterns. For inspiration, you may look at the user dashboard for fitness trackers such as Fitbit. "
   ]
  },
  {
   "cell_type": "code",
   "execution_count": 95,
   "id": "b717fb40",
   "metadata": {},
   "outputs": [
    {
     "data": {
      "text/plain": [
       "Int64Index([13909], dtype='int64')"
      ]
     },
     "execution_count": 95,
     "metadata": {},
     "output_type": "execute_result"
    }
   ],
   "source": [
    "mainDf1[mainDf1.combined_metric==mainDf1.combined_metric.max()].index"
   ]
  },
  {
   "cell_type": "code",
   "execution_count": 106,
   "id": "7eea9fd1",
   "metadata": {},
   "outputs": [
    {
     "name": "stdout",
     "output_type": "stream",
     "text": [
      "Dashboard\n",
      "Username:  u7531\n",
      "Questions User attempted:  7512\n",
      "Total Questions:  13169\n",
      "Metric of Exploration:  0.8110573685177248\n",
      "Median Metric(Know where you stand with other students):  0.0006122573930080206\n",
      "Hours you spent on the platform:  1440.0\n",
      "Payments done/due:  1\n"
     ]
    }
   ],
   "source": [
    "i=13909\n",
    "print('Dashboard')\n",
    "print('Username: ',mainDf1.username[i])\n",
    "print('Questions User attempted: ',mainDf1.num_of_questions_answered[i])\n",
    "print('Total Questions: ', questionsdf.shape[0])\n",
    "print('Metric of Exploration: ',mainDf1.mixed_cols[i])\n",
    "print('Median Metric(Know where you stand with other students): ',mainDf1.mixed_cols.median())\n",
    "print('Hours you spent on the platform: ', mainDf1.duration[i])\n",
    "print('Payments done/due: ', mainDf1.payments[i])"
   ]
  },
  {
   "cell_type": "markdown",
   "id": "a4049cd8",
   "metadata": {},
   "source": [
    "## Next steps:\n",
    "- The information on the student's strongest part of the questions and the weakest part of the questions should be provided. So that the student can explore more content and excel."
   ]
  },
  {
   "cell_type": "code",
   "execution_count": null,
   "id": "1568a8e6",
   "metadata": {},
   "outputs": [],
   "source": []
  }
 ],
 "metadata": {
  "kernelspec": {
   "display_name": "Python 3 (ipykernel)",
   "language": "python",
   "name": "python3"
  },
  "language_info": {
   "codemirror_mode": {
    "name": "ipython",
    "version": 3
   },
   "file_extension": ".py",
   "mimetype": "text/x-python",
   "name": "python",
   "nbconvert_exporter": "python",
   "pygments_lexer": "ipython3",
   "version": "3.9.12"
  }
 },
 "nbformat": 4,
 "nbformat_minor": 5
}
